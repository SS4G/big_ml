{
 "cells": [
  {
   "cell_type": "code",
   "execution_count": 1,
   "metadata": {},
   "outputs": [],
   "source": [
    "import torch\n",
    "import numpy as np"
   ]
  },
  {
   "cell_type": "code",
   "execution_count": 96,
   "metadata": {},
   "outputs": [],
   "source": [
    "x = torch.tensor([1.0, 3.0, 3.0], requires_grad=True)\n",
    "y = torch.exp(x)\n",
    "z = y ** 3 + 2 * (x ** 2)\n",
    "g = z.mean()"
   ]
  },
  {
   "cell_type": "code",
   "execution_count": 97,
   "metadata": {},
   "outputs": [],
   "source": [
    "g.backward()"
   ]
  },
  {
   "cell_type": "code",
   "execution_count": 98,
   "metadata": {},
   "outputs": [
    {
     "data": {
      "text/plain": [
       "tensor([  21.4189, 8107.0840, 8107.0840])"
      ]
     },
     "execution_count": 98,
     "metadata": {},
     "output_type": "execute_result"
    }
   ],
   "source": [
    "x.grad"
   ]
  },
  {
   "cell_type": "code",
   "execution_count": 48,
   "metadata": {},
   "outputs": [
    {
     "data": {
      "text/plain": [
       "8107.083927575385"
      ]
     },
     "execution_count": 48,
     "metadata": {},
     "output_type": "execute_result"
    }
   ],
   "source": [
    "x0 = 3.0\n",
    "g0 = (3 * np.exp(3*x0) + 4 * x0) / 3\n",
    "g0"
   ]
  },
  {
   "cell_type": "code",
   "execution_count": 103,
   "metadata": {},
   "outputs": [
    {
     "name": "stdout",
     "output_type": "stream",
     "text": [
      "shape_x= torch.Size([1, 3])\n",
      "shape_p= torch.Size([3, 2])\n",
      "shape_y= torch.Size([1, 2])\n"
     ]
    }
   ],
   "source": [
    "param = torch.tensor([\n",
    "    [1.0, 2.0], \n",
    "    [3.0, 4.0],\n",
    "    [5.0, 6.0]\n",
    "])\n",
    "x = torch.tensor([[2.0, 4.0, 5.0]], requires_grad=True)\n",
    "y = x.mm(param)\n",
    "y.requires_grad_(True)\n",
    "print(\"shape_x=\", x.shape)\n",
    "print(\"shape_p=\", param.shape)\n",
    "print(\"shape_y=\", y.shape)\n",
    "z = torch.exp(y)\n",
    "#z.requires_grad_(True)\n",
    "#g = y.sum()\n",
    "#z.backward(torch.tensor([1, 2]))\n",
    "#g.backward()"
   ]
  },
  {
   "cell_type": "code",
   "execution_count": 104,
   "metadata": {},
   "outputs": [],
   "source": [
    "p = z.backward(torch.tensor([[1.0, 2.0]]))"
   ]
  },
  {
   "cell_type": "code",
   "execution_count": 105,
   "metadata": {},
   "outputs": [
    {
     "data": {
      "text/plain": [
       "tensor([[2.0739e+22, 4.1478e+22, 6.2217e+22]])"
      ]
     },
     "execution_count": 105,
     "metadata": {},
     "output_type": "execute_result"
    }
   ],
   "source": [
    "x.grad"
   ]
  },
  {
   "cell_type": "code",
   "execution_count": null,
   "metadata": {},
   "outputs": [],
   "source": []
  },
  {
   "cell_type": "code",
   "execution_count": null,
   "metadata": {},
   "outputs": [],
   "source": []
  }
 ],
 "metadata": {
  "kernelspec": {
   "display_name": "Python 3",
   "language": "python",
   "name": "python3"
  },
  "language_info": {
   "codemirror_mode": {
    "name": "ipython",
    "version": 3
   },
   "file_extension": ".py",
   "mimetype": "text/x-python",
   "name": "python",
   "nbconvert_exporter": "python",
   "pygments_lexer": "ipython3",
   "version": "3.7.0"
  }
 },
 "nbformat": 4,
 "nbformat_minor": 2
}
