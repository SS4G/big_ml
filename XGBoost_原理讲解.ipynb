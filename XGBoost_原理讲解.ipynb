{
 "cells": [
  {
   "cell_type": "markdown",
   "metadata": {
    "toc": "true"
   },
   "source": [
    "<h1>Table of Contents<span class=\"tocSkip\"></span></h1>\n",
    "<div class=\"toc\"><ul class=\"toc-item\"><li><span><a href=\"#XGBoost\" data-toc-modified-id=\"XGBoost-1\"><span class=\"toc-item-num\">1&nbsp;&nbsp;</span>XGBoost</a></span><ul class=\"toc-item\"><li><span><a href=\"#简介\" data-toc-modified-id=\"简介-1.1\"><span class=\"toc-item-num\">1.1&nbsp;&nbsp;</span>简介</a></span></li><li><span><a href=\"#CART(Classification-and-Regression-Tree)\" data-toc-modified-id=\"CART(Classification-and-Regression-Tree)-1.2\"><span class=\"toc-item-num\">1.2&nbsp;&nbsp;</span>CART(Classification and Regression Tree)</a></span><ul class=\"toc-item\"><li><span><a href=\"#分裂指标（分类树：Gini指数）\" data-toc-modified-id=\"分裂指标（分类树：Gini指数）-1.2.1\"><span class=\"toc-item-num\">1.2.1&nbsp;&nbsp;</span>分裂指标（分类树：Gini指数）</a></span></li><li><span><a href=\"#例子\" data-toc-modified-id=\"例子-1.2.2\"><span class=\"toc-item-num\">1.2.2&nbsp;&nbsp;</span>例子</a></span><ul class=\"toc-item\"><li><span><a href=\"#对于Categorical变量\" data-toc-modified-id=\"对于Categorical变量-1.2.2.1\"><span class=\"toc-item-num\">1.2.2.1&nbsp;&nbsp;</span>对于Categorical变量</a></span></li><li><span><a href=\"#对于连续变量\" data-toc-modified-id=\"对于连续变量-1.2.2.2\"><span class=\"toc-item-num\">1.2.2.2&nbsp;&nbsp;</span>对于连续变量</a></span></li></ul></li><li><span><a href=\"#CART分割示意图\" data-toc-modified-id=\"CART分割示意图-1.2.3\"><span class=\"toc-item-num\">1.2.3&nbsp;&nbsp;</span>CART分割示意图</a></span></li><li><span><a href=\"#CART算法(分类树,无剪枝)\" data-toc-modified-id=\"CART算法(分类树,无剪枝)-1.2.4\"><span class=\"toc-item-num\">1.2.4&nbsp;&nbsp;</span>CART算法(分类树,无剪枝)</a></span></li><li><span><a href=\"#CART（回归树部分）\" data-toc-modified-id=\"CART（回归树部分）-1.2.5\"><span class=\"toc-item-num\">1.2.5&nbsp;&nbsp;</span>CART（回归树部分）</a></span></li><li><span><a href=\"#附录\" data-toc-modified-id=\"附录-1.2.6\"><span class=\"toc-item-num\">1.2.6&nbsp;&nbsp;</span>附录</a></span></li></ul></li><li><span><a href=\"#Boosting\" data-toc-modified-id=\"Boosting-1.3\"><span class=\"toc-item-num\">1.3&nbsp;&nbsp;</span>Boosting</a></span></li><li><span><a href=\"#Boosting-Tree\" data-toc-modified-id=\"Boosting-Tree-1.4\"><span class=\"toc-item-num\">1.4&nbsp;&nbsp;</span>Boosting Tree</a></span><ul class=\"toc-item\"><li><span><a href=\"#Boosting的基本思想\" data-toc-modified-id=\"Boosting的基本思想-1.4.1\"><span class=\"toc-item-num\">1.4.1&nbsp;&nbsp;</span>Boosting的基本思想</a></span></li><li><span><a href=\"#提升树算法-(回归问题)[10]\" data-toc-modified-id=\"提升树算法-(回归问题)[10]-1.4.2\"><span class=\"toc-item-num\">1.4.2&nbsp;&nbsp;</span>提升树算法 (回归问题)[10]</a></span></li><li><span><a href=\"#问题\" data-toc-modified-id=\"问题-1.4.3\"><span class=\"toc-item-num\">1.4.3&nbsp;&nbsp;</span>问题</a></span></li></ul></li><li><span><a href=\"#Gradient-Boosting-Decision-Tree(梯度提升树)\" data-toc-modified-id=\"Gradient-Boosting-Decision-Tree(梯度提升树)-1.5\"><span class=\"toc-item-num\">1.5&nbsp;&nbsp;</span>Gradient Boosting Decision Tree(梯度提升树)</a></span><ul class=\"toc-item\"><li><span><a href=\"#Gradient-Boosting的基本思想\" data-toc-modified-id=\"Gradient-Boosting的基本思想-1.5.1\"><span class=\"toc-item-num\">1.5.1&nbsp;&nbsp;</span>Gradient Boosting的基本思想</a></span></li><li><span><a href=\"#梯度提升树算法[11]\" data-toc-modified-id=\"梯度提升树算法[11]-1.5.2\"><span class=\"toc-item-num\">1.5.2&nbsp;&nbsp;</span>梯度提升树算法[11]</a></span></li><li><span><a href=\"#注意\" data-toc-modified-id=\"注意-1.5.3\"><span class=\"toc-item-num\">1.5.3&nbsp;&nbsp;</span>注意</a></span></li></ul></li><li><span><a href=\"#XGBoost\" data-toc-modified-id=\"XGBoost-1.6\"><span class=\"toc-item-num\">1.6&nbsp;&nbsp;</span>XGBoost</a></span><ul class=\"toc-item\"><li><span><a href=\"#XGBoost与传统GBDT的算法层面的区别\" data-toc-modified-id=\"XGBoost与传统GBDT的算法层面的区别-1.6.1\"><span class=\"toc-item-num\">1.6.1&nbsp;&nbsp;</span>XGBoost与传统GBDT的算法层面的区别</a></span><ul class=\"toc-item\"><li><span><a href=\"#XGBoost中的二阶梯度\" data-toc-modified-id=\"XGBoost中的二阶梯度-1.6.1.1\"><span class=\"toc-item-num\">1.6.1.1&nbsp;&nbsp;</span>XGBoost中的二阶梯度</a></span></li><li><span><a href=\"#Newton提升树--[12]\" data-toc-modified-id=\"Newton提升树--[12]-1.6.1.2\"><span class=\"toc-item-num\">1.6.1.2&nbsp;&nbsp;</span>Newton提升树  [12]</a></span></li><li><span><a href=\"#XGBoost中的正则项\" data-toc-modified-id=\"XGBoost中的正则项-1.6.1.3\"><span class=\"toc-item-num\">1.6.1.3&nbsp;&nbsp;</span>XGBoost中的正则项</a></span></li></ul></li><li><span><a href=\"#XGBoost的推导与算法构建\" data-toc-modified-id=\"XGBoost的推导与算法构建-1.6.2\"><span class=\"toc-item-num\">1.6.2&nbsp;&nbsp;</span>XGBoost的推导与算法构建</a></span><ul class=\"toc-item\"><li><span><a href=\"#XGBoost的splitting准则的推导\" data-toc-modified-id=\"XGBoost的splitting准则的推导-1.6.2.1\"><span class=\"toc-item-num\">1.6.2.1&nbsp;&nbsp;</span>XGBoost的splitting准则的推导</a></span></li><li><span><a href=\"#XGBoost初始算法(Exact-Greedy-Algorithm)\" data-toc-modified-id=\"XGBoost初始算法(Exact-Greedy-Algorithm)-1.6.2.2\"><span class=\"toc-item-num\">1.6.2.2&nbsp;&nbsp;</span>XGBoost初始算法(Exact Greedy Algorithm)</a></span></li><li><span><a href=\"#XGBoost近似算法\" data-toc-modified-id=\"XGBoost近似算法-1.6.2.3\"><span class=\"toc-item-num\">1.6.2.3&nbsp;&nbsp;</span>XGBoost近似算法</a></span></li></ul></li><li><span><a href=\"#Extreme部分\" data-toc-modified-id=\"Extreme部分-1.6.3\"><span class=\"toc-item-num\">1.6.3&nbsp;&nbsp;</span>Extreme部分</a></span></li><li><span><a href=\"#XGBoost的其他特性\" data-toc-modified-id=\"XGBoost的其他特性-1.6.4\"><span class=\"toc-item-num\">1.6.4&nbsp;&nbsp;</span>XGBoost的其他特性</a></span></li></ul></li><li><span><a href=\"#参考资料\" data-toc-modified-id=\"参考资料-1.7\"><span class=\"toc-item-num\">1.7&nbsp;&nbsp;</span>参考资料</a></span></li></ul></li></ul></div>"
   ]
  },
  {
   "cell_type": "markdown",
   "metadata": {},
   "source": [
    "# XGBoost\n",
    "\n",
    "## 简介\n",
    "在大数据竞赛中,XGBoost霸占了文本图像等领域外几乎80%以上的大数据竞赛.当然不仅是在竞赛圈,很多大公司也都将XGBoost作为核心模块使用,好奇的人肯定都很想揭开这个神奇的盒子的幕布,究竟是里面是什么,为什么这么厉害? 本篇notebook会从理论和实践的角度来讲述XGBoost以及关于它的一段历史与组成.<br />\n",
    "\n",
    "此处我们会按照下图的形式来讲述关于XGBoost的进化史."
   ]
  },
  {
   "cell_type": "markdown",
   "metadata": {},
   "source": [
    "![](./XGBoost_PPT/pic/XGB5.png)"
   ]
  },
  {
   "cell_type": "markdown",
   "metadata": {},
   "source": [
    "## CART(Classification and Regression Tree)\n",
    "CART的全称是Classification and Regression Tree,翻译过来就是分类与回归树,是由四人帮Leo Breiman, Jerome Friedman, Richard Olshen与Charles Stone于1984年提出的,该算法是机器学习领域一个较大的突破,从名字看就知道其既可用于分类也可用于回归.\n",
    "\n",
    "CART本质是对特征空间进行二元划分(即CART生成的决策树是一棵二叉树),它能够对类别变量与连续变量进行分裂,大体的分割思路是**先对某一维数据进行<font color = red>排序(这也是为什么我们对无序的类别变量进行编码的原因[1])</font>,然后对已经排好后的特征进行切分,切分的方法就是if ... else ...的格式.然后计算衡量指标(分类树用Gini指数,回归树用最小平方值),最终通过指标的计算确定最后的划分点[2],然后按照下面的规则生成左右子树:**\n",
    "\n",
    "> <font color = red>If x < A: Then go to left; else: go to right.</font>\n"
   ]
  },
  {
   "cell_type": "markdown",
   "metadata": {},
   "source": [
    "### 分裂指标（分类树：Gini指数）\n",
    "- **对于给定的样本集D的Gini指数: 分类问题中,假设有$K$个类,样本点属于第$k$类的概率为$p_k$,则概率分布的基尼指数为:$ Gini(D) = \\Sigma_{k=1}^K p_k(1 - p_k) $[3]**.\n",
    " \n",
    "> ①.从Gini指数的数学形式中,我们可以很容易的发现,当$p_1 = p_2 = ... = p_K$的时候**Gini指数是最大**的,这个时候分到每个类的概率是一样的,判别性极低,对我们分类带来的帮助很小,可以忽略. <br />\n",
    "> ②.当某些$p_i$较大,即第$i$类的概率较大,此时我们的Gini指数会变小意味着判别性较高.样本中的类别不平衡. <br />\n",
    "\n",
    "- **在给定特征A的条件下,样本集合$D$的基尼指数(在CART中)为: $ Gini(D,A) = p_1 Gini(D_1) + p_2 Gini(D_2) $,其中 $p_i = \\frac{D_i}{D_1 + D_2}, i \\in {1,2}$**\n",
    "\n",
    "在CART分割时,我们**按照<font color=blue>Gini指数最小</font>来确定分割点的位置[4]**.\n"
   ]
  },
  {
   "cell_type": "markdown",
   "metadata": {},
   "source": [
    "### 例子\n",
    "#### 对于Categorical变量\n",
    "数据集关于第一个特征维度的Gini指数的计算(其他的类似)就是: <br />\n",
    "$Gini(D,CarType) = \\frac{9+7}{9+7+1+3}[ 2 * \\frac{9}{9+7}* (1 - \\frac{9}{9+7}) ] + \\frac{1+3}{9+7+1+3}[ 2 * \\frac{1}{1+3}*  (1 - \\frac{1}{1+3})] = 0.468$\n",
    "\n",
    "![](./XGBoost_PPT/pic/CART_Example1.png)\n",
    "\n",
    "#### 对于连续变量\n",
    "因为连续变量的部分已经通过某一个值进行了划分,所以计算的时候和Categorical变量的计算类似.\n",
    "![](./XGBoost_PPT/pic/CART_Example2.png)"
   ]
  },
  {
   "cell_type": "markdown",
   "metadata": {},
   "source": [
    "### CART分割示意图\n",
    "下图的$Gini(D,A_i)$默认为第$i$个特征维度的最小Gini值.\n",
    "\n",
    "![](./XGBoost_PPT/pic/CART_cuttingrule.png)"
   ]
  },
  {
   "cell_type": "markdown",
   "metadata": {},
   "source": [
    "### CART算法(分类树,无剪枝)\n",
    "**输入**:训练数据集D,停止计算条件. <br />\n",
    "**输出**:CART决策树. <br />\n",
    "\n",
    "根据训练数据集,从根节点开始,递归地对每个结点进行以下操作,构建二叉决策树:<br />\n",
    "(1) 设结点的训练数据集为$D$,计算现有特征对该数据集的基尼指数(Gini),此时,对每一个特征$A$,对其可能取的**每个值$a$(<font color = red>先排序[5]</font>)**,根据样本点对$A=a$的测试\"是\"或\"否\"将$D$分割成$D_1$,$D_2$,计算当$A=a$时的基尼指数; <br /> \n",
    "(2) 在所有可能的特征$A$以及它们所有可能的切分点$a$中,选择基尼指数最小的特征及其对应的切分点作为最优特征与最优切分点,依最优特征与最优切分点,从现节点生成两个子节点,将训练数据集依特征分配到两个子节点中去;<br />\n",
    "(3) 对两个子节点递归调用(1),(2),直至满足停止条件. <br />\n",
    "(4) 生成CART决策树."
   ]
  },
  {
   "cell_type": "markdown",
   "metadata": {},
   "source": [
    "### CART（回归树部分）\n",
    "\n",
    "**输入**:训练数据集D,停止计算条件. <br />\n",
    "**输出**:CART回归树$f(x)$. <br />\n",
    "\n",
    "在训练数据集所在的输入空间中,递归地将每个区域划分为两个子区域并决定每个子区域的输出值,构建二叉决策树:<br />\n",
    "(1) 选择最优切分变量$j$与切分点$s$,求解:<font color =red> $min_{j,s}[min_{c_1} \\Sigma_{x_i \\in R_1(j,s)} (y_i -c_1)^2 + min_{c_2} \\Sigma_{x_i \\in R_2(j,s)} (y_i - c_2)^2]$ </font><br />\n",
    "遍历变量$j$, 对固定的切分变量$j$扫描切分点$s$,选择使得上式达到最小值的对$(j,s)$.\n",
    "(2) 用选定的对$(j,s)$划分区域并决定相应的输出值:<br />\n",
    "> $R_1(j,s) = \\{x | x^{(j)} \\le s\\}, R_2(j,s) = \\{x | x^{(j)} > s \\}$ <br />\n",
    "> $\\bar{c}_m = \\frac{1}{N_m} \\Sigma_{x_i \\in R_m(j,s)}y_i, x \\in R_m, m=1,2$<br />\n",
    "\n",
    "(3) 继续对两个子区域调用(1),(2),直至满足停止条件. <br />\n",
    "(4) 将输入空间划分为$M$个区域$R_1,R_2,...,R_M$,生成决策树: $f(x) = \\Sigma_{m=1}^M \\bar{c}_m I(x \\in R_m)$"
   ]
  },
  {
   "cell_type": "markdown",
   "metadata": {},
   "source": [
    "### 附录\n",
    "- 由上面的分析我们可以知晓,**CART是基于单特征的,没有考虑特征之间的关联性,但这也给了我们两个提示,①我们的特征是不需要进行归一化处理的[6];②有时我们需要通过特征之间的相关性来构建新的特征[7].**.<br />\n",
    "- 因为本篇notebook的核心是XGBoost,关于CART剪枝以及其他相关的内容就不再累述."
   ]
  },
  {
   "cell_type": "markdown",
   "metadata": {},
   "source": [
    "## Boosting\n",
    "上面是最常用的树模型的介绍,现在我们要介绍Boosting技术,Boosting在维基百科上面的解释是:<br />\n",
    "- **Boosting**: a machine learning ensemble meta-algorithm for primarily reducing bias, and also variance in supervised learning, and a family of machine learning algorithms which <font color=red>convert weak learners to strong ones[8]</font>.\n",
    "\n",
    "实际生活中,人们也常用\"三个臭皮匠赛过诸葛亮\"的话来描述Boosting(提升方法).当然这背后还有理论的支撑与保障,两个大牛Kearns和Valiant提出了强可学习和弱可学习概念同时在此概念下,Schapire证明的**强可学习与弱可学习是等价的伟大理论[9]**."
   ]
  },
  {
   "cell_type": "markdown",
   "metadata": {},
   "source": [
    "服从Boosting维基百科的解释,我们用简单的数学对其进行表示,\n",
    "- **多个臭皮匠 ---- 多个弱分类器($f_1(x),f_2(x),...,f_M(x)$)**  <br />\n",
    "\n",
    "现在我们要将多个弱分类器转化为强分类器$F(x)$.怎么转换呢？最直接的就是线性加权: $F(x) = \\Sigma_{i=1}^M \\alpha_i f_i(x)$,其中 $\\alpha_i$ 为第i个分类器的权重, 当然我们也可以将其进一步变形为: $F(x) = \\Sigma_{i=1}^M \\alpha_i f_i(x) = \\Sigma_{i=1}^{M} g_i(x)$,其中$g_i(x) = \\alpha_i f_i(x)$. "
   ]
  },
  {
   "cell_type": "markdown",
   "metadata": {},
   "source": [
    "## Boosting Tree\n",
    "将上面的Boosting思想和树进行结合,我们便得到了提升树的简易版本. $F(x) =  \\Sigma_{i=1}^{M} g_i(x) = \\Sigma_{i=1}^{M} g(x,\\theta_i) $, $g(x,\\theta_i)$ 是第i棵树, $\\theta_i$是第$i$棵树的参数.我们就得到了Boosting Tree的表达形式.但是这样的形式该如何求解得到呢....."
   ]
  },
  {
   "cell_type": "markdown",
   "metadata": {},
   "source": [
    "### Boosting的基本思想\n",
    "按照所有的监督机器学习算法的模式,我们需要通过训练获得的$F(x)$,使得对于给定的输入变量$x$,我们输出的$F(x)$都能较好地近似$y$.换言之,就是希望我们的损失函数:$L(y, F(x))$尽可能的小.\n",
    "\n",
    "\n",
    "如果从传统的平方损失函数的角度出发的话就是: 希望对于所有的样本, $min \\frac{1}{N}\\Sigma_{i=1}^N(y_i - F(x_i))^2$,写成向量的形式就是 $min \\frac{1}{N}(y - F(x))^2$. 因为$F(x)$是由多个含有不同参数的弱分类器组成,我们无法向传统的梯度下降的形式进行直接的优化, 不过不急, 我们慢慢分析, 一步一步来.\n",
    "\n",
    "我们的**目标是最小化 $min (y-F(x))^2$, $y$是向量的形式,包含所有样本的label**.\n",
    "> ① 我们构造$f_1(x)$希望$(y-f_1(x))^2$ 尽可能的小. <br />\n",
    "> ② 我们训练$f_2(x)$希望$(y-f_1(x)-f_2(x))^2$尽可能的小. <br />\n",
    "> ③ 我们训练$f_3(x)$希望$(y-f_1(x)-f_2(x)-f_3(x))^2$尽可能的小. <br />\n",
    "> ......依次类推,直至第$f_M(x)$. <br />\n",
    "\n",
    "从上面的构造角度看,我们发现构建第$t+1$个分类器的时候,前$t$个分类器是固定的,也就是说在第$t+1$步,我们的目标就是$min (y-\\Sigma_{j=1}^tf_j(x) - f_{t+1}(x))^2$\n",
    "我们令$r = y - \\Sigma_{j=1}^tf_j(x)$表示我们的残差,而我们的下一个分类器$f_{t+1}(x)$就是尽可能拟合我们的残差r. 使得 $(y-\\Sigma_{j=1}^tf_j(x) - f_{t+1}(x))^2 = (r - f_{t+1}(x))^2< (y-\\Sigma_{j=1}^tf_j(x))^2$,这样我们每次迭代一轮,损失误差就会继续变小,在训练集上离我们的目标也就更加近了.\n",
    " \n",
    "从而我们得到我们的提升树算法.\n"
   ]
  },
  {
   "cell_type": "markdown",
   "metadata": {},
   "source": [
    "### 提升树算法 (回归问题)[10]\n",
    "**输入**: 训练数据集 $T = {(x_1, y_1),(x_2, y_2), ..., (x_N, y_N)}, x_i \\in X, y_i \\in Y$; <br />\n",
    "**输出**: 提升树$f_M(x)$ <br />\n",
    "(1) 初始化 $f_0(x) = 0$. <br />\n",
    "(2) 对 $m=1,2,...,M$ <br />\n",
    "(a) 计算残差, $r_{mi} = y_i - F_{m-1}(x_i), i=1,2,3,...,N$.<br />\n",
    "(b) 拟合残差$r_{mi}$学习一个回归树,得到$f_m(x)$.<br />\n",
    "(c) 更新$F_m(x) = F_{m-1}(x) + f_m(x)$.<br />\n",
    "(3) 得到回归问题提升树 $F_M(x) = \\Sigma_{i=1}^M f_i(x)$"
   ]
  },
  {
   "cell_type": "markdown",
   "metadata": {},
   "source": [
    "### 问题\n",
    "上面我们使用的是简单的平方损失函数的形式对我们的目标进行了展开与化简,但我们**实际中却有很多其他的损失函数,而且在很多问题中,这些损失函数比我们的平方损失函数要好很多. 同样的, 我们的方法仍然不变,是希望在第$t+1$步的时候学习分类器$f_{t+1}(x)$ 使得 $L(y,\\Sigma_{j=1}^t f(x) + f_{t+1}(x))$ 尽可能的在$L(y,\\Sigma_{j=1}^t f(x))$的基础上面变得更小**. 这个时候我们发现无法像上面那样直接展开并进行残差拟合了......那该怎么办呢？"
   ]
  },
  {
   "cell_type": "markdown",
   "metadata": {},
   "source": [
    "## Gradient Boosting Decision Tree(梯度提升树)\n",
    "### Gradient Boosting的基本思想\n",
    "接着上面的问题,我们退回来想一想,因为我们的目标是最小化$L(y,F(x))$,所以我们只需要$L(y,\\Sigma_{j=1}^t f_j(x) + f_{t+1}(x))$的值比$L(y,\\Sigma_{j=1}^t f_j(x))$小,好了,既然这样,貌似问题又出现了一丝曙光, 那现在我们再假设,我们的损失函数$L$是可导的,这个假设很合理,毕竟现在90%以上的损失函数都是可导的.是不是感觉至少该问题又可以求解了.\n",
    "\n",
    "那么我们现在的目标就变成了 $max [(L(y, \\Sigma_{j=1}^t f_j(x)) - L(y, \\Sigma_{j=1}^t  f_j(x) + f_{t+1}(x)))]$ ,为了方便,我们令$ c = \\Sigma_{j=1}^t f_j(x) $, 好吧,既然如此, $ max [L(y, c) - L(y,c+f_{t+1}(x))]$\n",
    "\n",
    "> $L(c+ f_{t+1}(x)) \\approx L(c) + L'(c)  f_{t+1}(x) $,  <br />\n",
    "\n",
    ">  $L(c+ f_{t+1}(x)) = L(c) + L'(c)  f_{t+1}(x) = L(c) - L'(c) ^2 < L(c)$ 其中 $  f_{t+1}(x) = -1 * L'(x)$ <br />\n",
    "\n",
    "$\\rightarrow \\rightarrow \\rightarrow \\rightarrow$现在我们用$f_{i+1}(x)$来拟合$  f_{t+1}(x) = -1 * L'(x)$, 原先的 $r$ 就变成了现在的梯度！ Nice! 于是梯度提升树就产生了."
   ]
  },
  {
   "cell_type": "markdown",
   "metadata": {},
   "source": [
    "### 梯度提升树算法[11]\n",
    "**输入**: 训练数据集 $T = {(x_1, y_1),(x_2, y_2), ..., (x_N, y_N)}, x_i \\in X \\subset R^n, y_i \\in Y  \\subset R$;<font color = red> 损失函数 L(y,f(x)),树的个数M.</font> <br />\n",
    "**输出**: 梯度提升树$F_M(x)$ <br />\n",
    "(1) 初始化 $f_0(x) = argmin_c \\Sigma_{i=1}^N L(y_i,c)$. <br />\n",
    "(2) 对 $m=1,2,...,M$ <br />\n",
    "(a) 对$i =1,2,...,N$,计算, $r_{mi} = - [\\frac{\\partial L(y_i, f(x_i))}{\\partial f(x_i)}]_{f(x) = F_{m-1}(x)}$.<br />\n",
    "(b) 拟合残差$r_{mi}$学习一个回归树,得到$f_m(x)$.<br />\n",
    "(c) 更新$F_m(x) = F_{m-1}(x) + f_m(x)$.<br />\n",
    "(3) 得到回归问题提升树 $F_M(x) = \\Sigma_{i=0}^M f_i(x)$"
   ]
  },
  {
   "cell_type": "markdown",
   "metadata": {},
   "source": [
    "### 注意\n",
    "- 上面提到的梯度提升树是最简易的版本,后续写在各种开源包中的GBDT都在残差的部分增加了步长(或者学习率), $r_{mi} = - $ <font color=red>$\\alpha_m$</font>$[\\frac{\\partial L(y_i, f(x_i))}{\\partial f(x_i)}]_{f(x) = ~F_{m-1}~~(x)}$, 用学习率来控制我们模型的学习速度,和传统的梯度下降的方式类似.\n"
   ]
  },
  {
   "cell_type": "markdown",
   "metadata": {},
   "source": [
    "## XGBoost\n",
    "上面的部分讲述了GBDT的原理部分,现在正式进入主题,神奇的XGBoost,XGBoost展开的意思就是Extreme Gradient Boosting,其中Extreme是极致的意思,主要体现在工程设计层面,包括并发的程序执行,贪心的排序操作等,因为本篇notebook的核心不在于此,接下来我们着重介绍XGBoost在实现与原理上于传统GBDT的区别."
   ]
  },
  {
   "cell_type": "markdown",
   "metadata": {},
   "source": [
    "### XGBoost与传统GBDT的算法层面的区别\n",
    "XGBoost中的GBDT与传统的GBDT在算法层面有主要有两处较大的不同:\n",
    "- XGBoost中的导数不是一阶的,是二阶的[12];\n",
    "- XGBoost中的剪枝部分在对叶子的个数做惩罚的同时还加入权重的惩罚.换言之,正则项进行了改进[13].\n",
    "\n",
    "#### XGBoost中的二阶梯度\n",
    "\n",
    "> $L(x+ \\delta x) \\approx L(x) + L'(x) \\delta x + \\frac{1}{2}L''(x) \\delta x^2$,  <br />\n",
    "\n",
    ">  $L(x+ \\delta x) = L(x) + L'(x) \\delta x  + \\frac{1}{2}L''(x) \\delta x^2= L(x) - \\frac{1}{2} \\frac{L'(x) ^2}{L''(x)} < L(x)$ 其中 $ \\delta x = -1 * \\frac{L'(x)}{L''(x)}$ <br />\n",
    "\n",
    "其实这个对应的就是牛顿提升树.\n",
    "\n",
    "\n",
    "####  Newton提升树  [12]\n",
    "**输入**: 训练数据集 $T = {(x_1, y_1),(x_2, y_2), ..., (x_N, y_N)}, x_i \\in X \\subset R^n, y_i \\in Y  \\subset R$;<font color = red> 损失函数 L(y,f(x)),树的个数M.</font> <br />\n",
    "**输出**: 梯度提升树$F_M(x)$ <br />\n",
    "(1) 初始化 $f_0(x) = argmin_c \\Sigma_{i=1}^N L(y_i,c)$. <br />\n",
    "(2) 对 $m=1,2,...,M$ <br />\n",
    "(a) 对$i =1,2,...,N$,计算,<font color = red> $r_{mi} = - [\\frac{\\partial L(y_i, f(x_i))}{\\partial f(x_i)} + \\frac{1}{2}\\frac{\\partial _2L(y_i, f(x_i))}{\\partial f(x_i)} ]_{f(x) = F_{m-1}(x)  }$. </font><br />\n",
    "(b) 拟合残差$r_{mi}$学习一个回归树,得到$f_m(x)$.<br />\n",
    "(c) 更新$F_m(x) = F_{m-1}(x) + f_m(x)$.<br />\n",
    "(3) 得到回归问题提升树 $F_M(x) = \\Sigma_{i=1}^M f_i(x)$"
   ]
  },
  {
   "cell_type": "markdown",
   "metadata": {},
   "source": [
    "#### XGBoost中的正则项\n",
    "传统的GBDT为了控制树的复杂度常常会对树的叶子个数加正则项进行控制, XGBoost不仅仅对于树中的叶子节点的个数进行控制,与此同时还对每个叶子节点的分数加入正则.即:\n",
    "- 传统的GBDT的损失函数: $\\Sigma_{i=1}^N L(y_i,F(x_i)) + \\Omega(F)$,其中$F(x) = \\Sigma_i^M f_i(x) $, 通常 $\\Omega(F) = \\gamma \\Sigma_{i=1}^M T_i$, $T_i$ 表示第$i$棵树的叶子节点的个数.\n",
    "\n",
    "- XGBoost的损失函数: $\\Sigma_{i=1}^N L(y_i,F(x_i)) + \\Omega(F)$,其中$F(x) = \\Sigma_i^M f_i(x) $, 通常 $\\Omega(F) = \\gamma \\Sigma_{i=1}^M T_i + $<font color = red>$\\frac{1}{2} \\lambda \\Sigma_i w_i^2$</font>,  $T_i$ 表示第$i$棵树的叶子节点的个数,$w_i$为第i个叶子节点的值. "
   ]
  },
  {
   "cell_type": "markdown",
   "metadata": {},
   "source": [
    "### XGBoost的推导与算法构建\n",
    "\n",
    "#### XGBoost的splitting准则的推导\n",
    "下面我们对XGBoost中的一些公式进行推导,方便后续对于树的splitting有更好的理解.我们的目标依然不变,就是希望构建一棵新的树的时候,我们的损失函数尽可能的变得更小,即:\n",
    "\n",
    " $min ~ \\Sigma_{k=1}^n (L(y_k, \\bar{y}_k+ f_{t+1}(x_{k})) - L(y_k, \\bar{y}_k) )$,其中 $\\bar{y}_k = \\Sigma_{j=1}^{t}f_j(x_k)$, $\\bar{y}_k$表示前$t$棵树对于某个变量$x_k$的预测值. <br />\n",
    " \n",
    " 使用二阶泰特展开并且去掉常数值,我们可以得到:\n",
    "  $min ~ \\Sigma_{k=1}^n (L(y_k, \\bar{y}_k+ f_{t+1}(x_k)) - L(y_k,\\bar{y}_k) ) \\approx min ~ \\Sigma_{k=1}^n (g_k f_{t+1}(x_k) + \\frac{1}{2}h_k f_{t+1}^2(x_k))+ \\Omega (f_{t+1}) $,其中$g_k = \\partial_{\\bar{y}_k} L(y_k, \\bar{y}_k)$,$ h_k = \\partial^2_{\\bar{y}_k}L(y_k,\\bar{y}_k)$"
   ]
  },
  {
   "cell_type": "markdown",
   "metadata": {},
   "source": [
    "到这边已经差不多了,因为我们的模型是树模型,而树模型$f_i$是由多个叶子节点$w_1,w_2,...,w_{T_i}$组成, <br />\n",
    "令<font color = red> **$I_j = \\{i | q(x_i) = j \\}$** </font>表示第$i$个样本落入到了第$j$个叶子节点中.则:\n",
    "\n",
    "$min ~ \\Sigma_{k=1}^n (g_k f_{t+1}(x_k) + \\frac{1}{2}h_k f_{t+1}^2(x_k))+ \\Omega (f_{t+1}) $\n",
    "\n",
    "$\\rightarrow$  $min \\Sigma_{j=1}^{T_{t+1}} [(\\Sigma_{i \\in I_j} g_i) w_j + \\frac{1}{2} (\\Sigma_{i \\in I_j}h_i + \\lambda) w_j^2] + \\gamma T_{t+1} $\n",
    "\n",
    "$\\rightarrow$ $w_j^* = - \\frac{\\Sigma_{i \\in I_j} ~~g_i}{\\Sigma_{i \\in I_j}~~h_i + \\lambda}$\n",
    "\n",
    "对应的最优值就是: <font color =red>$- \\frac{1}{2} \\Sigma_{j=1}^{T_{t+1}} \\frac{(\\Sigma_{i \\in I_j }~~g_i)^2}{\\Sigma_{i \\in I_j}~~h_i + \\lambda} + \\gamma T_{t+1}$ </font>\n",
    "\n",
    "- **这个值被用来评估决策树的不纯洁性,类似于Gini指数等的作用,而这也确实是XGBoost的Splitting指标[13]**.\n",
    "\n",
    "如果分割过后,我们左右子树的值的和相比于原先的值有增加并且大于某一个阈值,那么我们就寻找能获取最大值的分割点进行分割,反之我们就不进行分割. 即:\n",
    "** $L_{split} = \\frac{1}{2} [ \\frac{(\\Sigma_{i \\in I_L}~~ g_i)^2}{\\Sigma_{i \\in I_L}~~ h_i + \\lambda} +  \\frac{(\\Sigma_{i \\in I_R}~~ g_i)^2}{\\Sigma_{i \\in I_R} ~~ h_i + \\lambda} -  \\frac{(\\Sigma_{i \\in I}~~ g_i)^2}{\\Sigma_{i \\in I} ~~h_i + \\lambda} ] - \\gamma$ **\n",
    "\n"
   ]
  },
  {
   "cell_type": "markdown",
   "metadata": {},
   "source": [
    "#### XGBoost初始算法(Exact Greedy Algorithm)\n",
    "![](./XGBoost_PPT/pic/XGBoost_Orig.png)"
   ]
  },
  {
   "cell_type": "markdown",
   "metadata": {},
   "source": [
    "#### XGBoost近似算法\n",
    "当我们数据的规模足够大的时候，我们的数据较难存到内存中去,而且大量的数据使得计算量也变得很大,此时Exact Greedy的算法就不太实用,所以我们往往会寻求一种近似算法,而XGBoost的作者陈天奇针对该问题提出了一个新的近似算法,算法的核心可以参考XGBoot论文的\"3.3 Weighted Quantile Sketch\"部分.\n",
    "![](./XGBoost_PPT/pic/XGBoost_Approx.png)"
   ]
  },
  {
   "cell_type": "markdown",
   "metadata": {},
   "source": [
    "### Extreme部分\n",
    "XGBoost的核心算法思想还是属于GBDT那一套,但此外,XGBoost还有着它的其他优势,正如陈天奇所述的,XGBoost中Extreme部分更多的是系统设计层面的,它是将我们的机器用到了极致.其中核心的包括:\n",
    "\n",
    "- 用于并行计算的列模块\n",
    "- Cache-aware Access\n",
    "- 内存外的计算\n",
    "\n",
    "具体的细节我就不再累述,可以参考陈天奇的论文以及他的代码进行细细的研究."
   ]
  },
  {
   "cell_type": "markdown",
   "metadata": {},
   "source": [
    "### XGBoost的其他特性\n",
    "XGBoost可以认为是一款集成了多种机器学习算法思想的一款利器:\n",
    "- 行(样本)采样,列(特征)采样 (降低方差)\n",
    "- Early stopping,Shrinkage(学习率)的设置,这些可以用来防止过拟合.\n",
    "- 缺失值的处理"
   ]
  },
  {
   "cell_type": "markdown",
   "metadata": {},
   "source": [
    "## 参考资料\n",
    "1. XGBoost 与 Boosted Tree:http://www.52cs.org/?p=429 <br />\n",
    "2. CART博客:http://www.cnblogs.com/en-heng/p/5035945.html<br />\n",
    "3. Boosting:https://en.wikipedia.org/wiki/Boosting(machine_learning)<br />\n",
    "4. Boosted Tree:http://xgboost.readthedocs.io/en/latest/model.html<br />\n",
    "5. 李航《统计机器学习》 <br />\n",
    "6. Friedman:Greedy Function Approximation: A Gradient Boosting Machine <br />\n",
    "7. XGBoost: A Scalable Tree Boosting System: https://arxiv.org/pdf/1603.02754.pdf <br />\n",
    "8. XGBoost: https://github.com/dmlc/xgboost <br />\n",
    "9. Wepe的ppt:https://link.zhihu.com/?target=http%3A//wepon.me/files/gbdt.pdf"
   ]
  }
 ],
 "metadata": {
  "anaconda-cloud": {},
  "kernelspec": {
   "display_name": "Python 3",
   "language": "python",
   "name": "python3"
  },
  "language_info": {
   "codemirror_mode": {
    "name": "ipython",
    "version": 3
   },
   "file_extension": ".py",
   "mimetype": "text/x-python",
   "name": "python",
   "nbconvert_exporter": "python",
   "pygments_lexer": "ipython3",
   "version": "3.7.3"
  },
  "toc": {
   "base_numbering": 1,
   "nav_menu": {},
   "number_sections": true,
   "sideBar": true,
   "skip_h1_title": false,
   "title_cell": "Table of Contents",
   "title_sidebar": "Contents",
   "toc_cell": true,
   "toc_position": {
    "height": "818px",
    "left": "37px",
    "right": "1191px",
    "top": "110px",
    "width": "333px"
   },
   "toc_section_display": true,
   "toc_window_display": false
  },
  "varInspector": {
   "cols": {
    "lenName": 16,
    "lenType": 16,
    "lenVar": 40
   },
   "kernels_config": {
    "python": {
     "delete_cmd_postfix": "",
     "delete_cmd_prefix": "del ",
     "library": "var_list.py",
     "varRefreshCmd": "print(var_dic_list())"
    },
    "r": {
     "delete_cmd_postfix": ") ",
     "delete_cmd_prefix": "rm(",
     "library": "var_list.r",
     "varRefreshCmd": "cat(var_dic_list()) "
    }
   },
   "types_to_exclude": [
    "module",
    "function",
    "builtin_function_or_method",
    "instance",
    "_Feature"
   ],
   "window_display": false
  }
 },
 "nbformat": 4,
 "nbformat_minor": 4
}
